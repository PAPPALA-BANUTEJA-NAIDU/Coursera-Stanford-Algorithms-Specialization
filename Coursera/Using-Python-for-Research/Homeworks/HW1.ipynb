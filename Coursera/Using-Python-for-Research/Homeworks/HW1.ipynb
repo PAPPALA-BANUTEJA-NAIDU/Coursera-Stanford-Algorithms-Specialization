{
 "cells": [
  {
   "cell_type": "markdown",
   "metadata": {},
   "source": [
    "# Using Python for Research Homework: Week 1\n",
    "\n",
    "In this homework, we will use objects, functions, and randomness to find the length of documents, approximate $\\pi$, and smooth out random noise."
   ]
  },
  {
   "cell_type": "markdown",
   "metadata": {},
   "source": [
    "### Exercise 1\n",
    "\n",
    "In this five-part exercise, we will count the frequency of each letter in a given string.\n",
    "\n",
    "#### Exercise 1a\n",
    "\n",
    "- Import the `string` library.\n",
    "- Create a variable `alphabet` that consists of the lowercase and uppercase letters in the English alphabet using the `ascii_letters` data attribute of the `string` library."
   ]
  },
  {
   "cell_type": "code",
   "execution_count": 1,
   "metadata": {},
   "outputs": [],
   "source": [
    "# write your code here!\n",
    "import string \n",
    "alphabet = string.ascii_letters\n"
   ]
  },
  {
   "cell_type": "markdown",
   "metadata": {},
   "source": [
    "#### Exercise 1b\n",
    "- The lower and upper case letters of the English alphabet should stored as the string variable `alphabet`.\n",
    "- Consider the sentence 'Jim quickly realized that the beautiful gowns are expensive'. Create a dictionary `count_letters` with keys consisting of each unique letter in the sentence and values consisting of the number of times each letter is used in this sentence. Count upper case and lower case letters separately in the dictionary."
   ]
  },
  {
   "cell_type": "code",
   "execution_count": 12,
   "metadata": {},
   "outputs": [
    {
     "name": "stdout",
     "output_type": "stream",
     "text": [
      "{'J': 1, 'i': 5, 'm': 1, ' ': 8, 'q': 1, 'u': 3, 'c': 1, 'k': 1, 'l': 3, 'y': 1, 'r': 2, 'e': 8, 'a': 4, 'z': 1, 'd': 1, 't': 4, 'h': 2, 'b': 1, 'f': 1, 'g': 1, 'o': 1, 'w': 1, 'n': 2, 's': 2, 'x': 1, 'p': 1, 'v': 1}\n",
      "1\n"
     ]
    }
   ],
   "source": [
    "sentence = 'Jim quickly realized that the beautiful gowns are expensive'\n",
    "\n",
    "count_letters = {}\n",
    "  \n",
    "for char in sentence: \n",
    "   if char in count_letters: \n",
    "      count_letters[char] += 1\n",
    "   else: \n",
    "      count_letters[char] = 1\n",
    "        \n",
    "print(count_letters)\n",
    "print(list(count_letters.values())[2])"
   ]
  },
  {
   "cell_type": "markdown",
   "metadata": {},
   "source": [
    "#### Exercise 1c\n",
    "- Rewrite your code from 1b to make a function called `counter` that takes a string `input_string` and returns a dictionary of letter counts `count_letters`.\n",
    "- Use your function to call `counter(sentence)`."
   ]
  },
  {
   "cell_type": "code",
   "execution_count": 13,
   "metadata": {},
   "outputs": [
    {
     "name": "stdout",
     "output_type": "stream",
     "text": [
      "{'J': 1, 'i': 5, 'm': 1, ' ': 8, 'q': 1, 'u': 3, 'c': 1, 'k': 1, 'l': 3, 'y': 1, 'r': 2, 'e': 8, 'a': 4, 'z': 1, 'd': 1, 't': 4, 'h': 2, 'b': 1, 'f': 1, 'g': 1, 'o': 1, 'w': 1, 'n': 2, 's': 2, 'x': 1, 'p': 1, 'v': 1}\n",
      "3\n"
     ]
    }
   ],
   "source": [
    "# write your code here!\n",
    "sentence = 'Jim quickly realized that the beautiful gowns are expensive'\n",
    "\n",
    "count_letters = {}\n",
    "\n",
    "def counter(sentence):\n",
    "    for char in sentence: \n",
    "        if char in count_letters:\n",
    "            count_letters[char] += 1\n",
    "        else:\n",
    "            count_letters[char] = 1\n",
    "           \n",
    "    return count_letters\n",
    "    \n",
    "counter(sentence)\n",
    "print(count_letters)\n",
    "print(list(count_letters.values())[8])\n"
   ]
  },
  {
   "cell_type": "markdown",
   "metadata": {},
   "source": [
    "#### Exercise 1d\n",
    "- Abraham Lincoln was a president during the American Civil War. His famous 1863 Gettysburg Address has been stored as `address`. Use the `counter` function from 1c to return a dictionary consisting of the count of each letter in this address and save it as `address_count`."
   ]
  },
  {
   "cell_type": "code",
   "execution_count": 50,
   "metadata": {},
   "outputs": [
    {
     "name": "stdout",
     "output_type": "stream",
     "text": [
      "{'F': 1, 'o': 93, 'u': 21, 'r': 79, 's': 44, 'c': 31, 'e': 165, 'a': 102, 'n': 76, 'd': 58, 'v': 24, 'y': 10, 'g': 27, 'f': 26, 't': 124, 'h': 80, 'b': 13, 'i': 65, ',': 22, 'w': 26, 'L': 1, 'p': 15, 'l': 41, 'm': 13, 'q': 1, '.': 10, 'N': 1, 'W': 2, '-': 15, 'I': 3, 'B': 1, 'T': 2, 'k': 3, 'G': 1}\n"
     ]
    }
   ],
   "source": [
    "address1 = \"\"\"Four score and seven years ago our fathers brought forth on this continent, a new nation, \n",
    "conceived in Liberty, and dedicated to the proposition that all men are created equal. Now we are engaged in a \n",
    "great civil war, testing whether that nation, or any nation so conceived and so dedicated, can long endure. \n",
    "We are met on a great battle-field of that war. We have come to dedicate a portion of that field, as a final \n",
    "resting place for those who here gave their lives that that nation might live. It is altogether fitting and proper \n",
    "that we should do this. But, in a larger sense, we can not dedicate -- we can not consecrate -- we can not hallow -- \n",
    "this ground. The brave men, living and dead, who struggled here, have consecrated it, far above our poor power to add \n",
    "or detract. The world will little note, nor long remember what we say here, but it can never forget what they did here. \n",
    "It is for us the living, rather, to be dedicated here to the unfinished work which they who fought here have thus far so \n",
    "nobly advanced. It is rather for us to be here dedicated to the great task remaining before us -- that from these honored \n",
    "dead we take increased devotion to that cause for which they gave the last full measure of devotion -- that we here \n",
    "highly resolve that these dead shall not have died in vain -- that this nation, under God, shall have a new birth of \n",
    "freedom -- and that government of the people, by the people, for the people, shall not perish from the earth.\"\"\"   \n",
    "\n",
    "address =  ''.join(address1.split())\n",
    "# Write your code here!\n",
    "address_count = {}\n",
    "\n",
    "def counter(address):\n",
    "    for char in address: \n",
    "        if char in address_count:\n",
    "            address_count[char] += 1\n",
    "        else:\n",
    "            address_count[char] = 1\n",
    "           \n",
    "    return address_count\n",
    "    \n",
    "counter(address)\n",
    "print(address_count)\n",
    "\n",
    "\n",
    "\n",
    "\n"
   ]
  },
  {
   "cell_type": "markdown",
   "metadata": {},
   "source": [
    "#### Exercise 1f\n",
    "- The frequency of each letter in the Gettysburg Address is already stored as `address_count`. Use this dictionary to find the most common letter in the Gettysburg address."
   ]
  },
  {
   "cell_type": "code",
   "execution_count": 51,
   "metadata": {},
   "outputs": [
    {
     "name": "stdout",
     "output_type": "stream",
     "text": [
      "e\n"
     ]
    }
   ],
   "source": [
    "# write your code here!\n",
    "\n",
    "maxi = max(address_count, key = address_count.get)\n",
    "\n",
    "print(maxi)\n",
    "    \n"
   ]
  },
  {
   "cell_type": "markdown",
   "metadata": {},
   "source": [
    "### Exercise 2\n",
    "\n",
    "Consider a circle inscribed in a square. The ratio of their areas (the ratio of the area of the circle to the area of the square) is $\\frac{\\pi}{4}$. In this six-part exercise, we will find a way to approximate this value.\n",
    "\n",
    "#### Exercise 2a\n",
    "- Using the `math` library, calculate and print the value of $\\frac{\\pi}{4}$"
   ]
  },
  {
   "cell_type": "code",
   "execution_count": 136,
   "metadata": {},
   "outputs": [
    {
     "name": "stdout",
     "output_type": "stream",
     "text": [
      "0.7853981633974483\n"
     ]
    }
   ],
   "source": [
    "# write your code here\n",
    "import math\n",
    "\n",
    "pi = math.pi / 4\n",
    "\n",
    "print(f\"{pi}\")\n"
   ]
  },
  {
   "cell_type": "markdown",
   "metadata": {},
   "source": [
    "#### Exercise 2b\n",
    "- Using `random.uniform()`, create a function `rand()` that generates a single float between $-1$ and $1$.\n",
    "- Call `rand()` once. For us to be able to check your solution, we will use `random.seed()` to fix the seed value of the random number generator."
   ]
  },
  {
   "cell_type": "code",
   "execution_count": 87,
   "metadata": {},
   "outputs": [
    {
     "data": {
      "text/plain": [
       "-0.7312715117751976"
      ]
     },
     "execution_count": 87,
     "metadata": {},
     "output_type": "execute_result"
    }
   ],
   "source": [
    "import random\n",
    "\n",
    "random.seed(1) # Fixes the see of the random number generator.\n",
    "def rand():\n",
    "    # define `rand` here!\n",
    "    return random.uniform(-1, 1)\n",
    "\n",
    "\n",
    "rand()"
   ]
  },
  {
   "cell_type": "markdown",
   "metadata": {},
   "source": [
    "#### Exercise 2c\n",
    "- The distance between two points x and y is the square root of the sum of squared differences along each dimension of x and y. Write a function` distance(x, y)` that takes two vectors as its input and outputs the distance between them. Use your function to find the distance between $x=(0,0)$ and $y=(1,1)$."
   ]
  },
  {
   "cell_type": "code",
   "execution_count": 97,
   "metadata": {},
   "outputs": [
    {
     "data": {
      "text/plain": [
       "1.4142135623730951"
      ]
     },
     "execution_count": 97,
     "metadata": {},
     "output_type": "execute_result"
    }
   ],
   "source": [
    "import math\n",
    "\n",
    "def distance(x, y):\n",
    "    r1 = (x[0] - y[0])**2\n",
    "    r2 = (x[1] - y[1])**2\n",
    "    res = math.sqrt(r1 + r2)\n",
    "    return res\n",
    "    \n",
    "distance((0,0), (1,1))"
   ]
  },
  {
   "cell_type": "markdown",
   "metadata": {},
   "source": [
    "#### Exercise 2d\n",
    "\n",
    "- Write a function `in_circle(x, origin)` that determines whether a point in a two dimensional plane falls within a unit circle surrounding a given origin.\n",
    "    - Your function should return a boolean `True` if the distance between `x` and `origin` is less than 1 and `False` otherwise.\n",
    "    - Use `distance(x, y)` as defined in 2c.\n",
    "- Use your function to determine whether the point (1,1) lies within the unit circle centered at (0,0)."
   ]
  },
  {
   "cell_type": "code",
   "execution_count": 113,
   "metadata": {},
   "outputs": [
    {
     "data": {
      "text/plain": [
       "False"
      ]
     },
     "execution_count": 113,
     "metadata": {},
     "output_type": "execute_result"
    }
   ],
   "source": [
    "def distance(x, y):\n",
    "    r1 = (x[0] - y[0])**2\n",
    "    r2 = (x[1] - y[1])**2\n",
    "    res = math.sqrt(r1 + r2)\n",
    "    return res\n",
    "\n",
    "def in_circle(x, origin = [0,0]):\n",
    "    if distance(x, origin) < 1:\n",
    "        return True\n",
    "    return False\n",
    "\n",
    "in_circle((1,1))"
   ]
  },
  {
   "cell_type": "markdown",
   "metadata": {},
   "source": [
    "#### Exercise 2e\n",
    "\n",
    "- Create a list `inside` of `R=10000` booleans that determines whether or not a point falls within the unit circle centered at `(0,0)`. \n",
    "    - Use the `rand` function from 2b to generate `R` randomly located points.\n",
    "    - Use the function `in_circle` to test whether or not a given pint falls within the unit circle.\n",
    "- Find the proportion of points that fall within the circle by summing all `True` values in the `inside` list; then divide the answer by `R` to obtain a proportion.\n",
    "- Print your answer. This proportion is an estimate of the ratio of the two areas!"
   ]
  },
  {
   "cell_type": "code",
   "execution_count": 119,
   "metadata": {},
   "outputs": [
    {
     "name": "stdout",
     "output_type": "stream",
     "text": [
      "0.779\n"
     ]
    }
   ],
   "source": [
    "random.seed(1) \n",
    "inside = list()\n",
    "\n",
    "for _ in range(10000):\n",
    "    inside.append(in_circle((rand(), rand())))\n",
    "    \n",
    "y = inside.count(True)\n",
    "proportion = y / 10000\n",
    "print(proportion)\n"
   ]
  },
  {
   "cell_type": "markdown",
   "metadata": {},
   "source": [
    "#### Exercise 2f\n",
    "\n",
    "- Find the difference between your estimate from part 2e and `math.pi / 4`. Note: `inside` and `R` are defined as in Exercise 2e."
   ]
  },
  {
   "cell_type": "code",
   "execution_count": 138,
   "metadata": {},
   "outputs": [
    {
     "name": "stdout",
     "output_type": "stream",
     "text": [
      "7789.214601836603\n"
     ]
    }
   ],
   "source": [
    "print(f\"{y-pi}\")\n"
   ]
  },
  {
   "cell_type": "markdown",
   "metadata": {},
   "source": [
    "### Exercise 3\n",
    "\n",
    "A list of numbers representing measurements obtained from a system of interest can often be noisy. One way to deal with noise to smoothen the values by replacing each value with the average of the value and the values of its neighbors.\n",
    "\n",
    "#### Exercise 3a\n",
    "\n",
    "- Write a function `moving_window_average(x, n_neighbors)` that takes a list `x` and the number of neighbors `n_neighbors` on either side of a given member of the list to consider.\n",
    "- For each value in `x`, `moving_window_average(x, n_neighbors)` computes the average of the value and the values of its neighbors.\n",
    "- `moving_window_average` should return a list of averaged values that is the same length as the original list.\n",
    "- If there are not enough neighbors (for cases near the edge), substitute the original value for a neighbor for each missing neighbor.\n",
    "- Use your function to find the moving window sum of `x=[0,10,5,3,1,5]` and `n_neighbors=1`."
   ]
  },
  {
   "cell_type": "code",
   "execution_count": 148,
   "metadata": {},
   "outputs": [
    {
     "name": "stdout",
     "output_type": "stream",
     "text": [
      "[2.1818181818181817, 2.6363636363636362, 3.090909090909091, 3.5454545454545454, 4.0, 4.454545454545454]\n"
     ]
    }
   ],
   "source": [
    "def moving_window_average(x, n_neighbors): \n",
    "    y = [] \n",
    "    n = len(x) \n",
    "    width = n_neighbors*2 + 1 \n",
    "    x = [x[0]]*n_neighbors + x + [x[-1]]*n_neighbors \n",
    "    y = [sum(x[i-n_neighbors:i+n_neighbors+1])/width for i in range(n_neighbors,n+n_neighbors)] \n",
    "    return y\n",
    "\n",
    "x = [0,10,5,3,1,5] \n",
    "y = moving_window_average(x, 5) \n",
    "print(y)"
   ]
  },
  {
   "cell_type": "markdown",
   "metadata": {},
   "source": [
    "#### Exercise 3b\n",
    "- Compute and store `R=1000` random values from 0-1 as `x`.\n",
    "- Compute the moving window average for `x` for values of `n_neighbors` ranging from 1 to 9 inclusive.\n",
    "- Store `x` as well as each of these averages as consecutive lists in a list called `Y`"
   ]
  },
  {
   "cell_type": "code",
   "execution_count": 149,
   "metadata": {},
   "outputs": [
    {
     "name": "stdout",
     "output_type": "stream",
     "text": [
      "10\n"
     ]
    }
   ],
   "source": [
    "random.seed(1) # This line fixes the value called by your function,\n",
    "               # and is used for answer-checking.\n",
    "    \n",
    "# write your code here!\n",
    "R = 1000\n",
    "x = [random.uniform(0, 1) for i in range(0, 1000)] #Return a random floating point number N such that\n",
    "   #a <= N <= b for a <= b \n",
    "   #and b <= N <= a for b < a.\n",
    "Y = [x] + [moving_window_average(x, n_neighbors) for n_neighbors in range(1, 10)]\n",
    "print(len(Y))\n"
   ]
  },
  {
   "cell_type": "markdown",
   "metadata": {},
   "source": [
    "#### Exercise 3c\n",
    "\n",
    "- For each list in `Y`, calculate and store the range (the maximum minus the minimum) in a new list ranges.\n",
    "- Print your answer. As the window width increases, does the range of each list increase or decrease? Why do you think that is?"
   ]
  },
  {
   "cell_type": "code",
   "execution_count": 150,
   "metadata": {},
   "outputs": [
    {
     "name": "stdout",
     "output_type": "stream",
     "text": [
      "[0.9973152343362711, 0.9128390185520854, 0.801645771909397, 0.7137391224212468, 0.6230146948375028, 0.5042284086774562, 0.5071013753101629, 0.4590090496908159, 0.44659549539083265, 0.4433696944090051]\n"
     ]
    }
   ],
   "source": [
    "ranges = [max(x)-min(x) for x in Y]\n",
    "print(ranges)"
   ]
  },
  {
   "cell_type": "code",
   "execution_count": null,
   "metadata": {},
   "outputs": [],
   "source": []
  },
  {
   "cell_type": "code",
   "execution_count": null,
   "metadata": {},
   "outputs": [],
   "source": []
  }
 ],
 "metadata": {
  "kernelspec": {
   "display_name": "Python 3",
   "language": "python",
   "name": "python3"
  },
  "language_info": {
   "codemirror_mode": {
    "name": "ipython",
    "version": 3
   },
   "file_extension": ".py",
   "mimetype": "text/x-python",
   "name": "python",
   "nbconvert_exporter": "python",
   "pygments_lexer": "ipython3",
   "version": "3.8.5"
  }
 },
 "nbformat": 4,
 "nbformat_minor": 2
}
